{
 "cells": [
  {
   "cell_type": "code",
   "execution_count": null,
   "metadata": {},
   "outputs": [],
   "source": []
  },
  {
   "cell_type": "code",
   "execution_count": 1,
   "metadata": {},
   "outputs": [
    {
     "name": "stderr",
     "output_type": "stream",
     "text": [
      "/Users/apple/Documents/dev/Pytorch /env/lib/python3.9/site-packages/urllib3/__init__.py:34: NotOpenSSLWarning: urllib3 v2 only supports OpenSSL 1.1.1+, currently the 'ssl' module is compiled with 'LibreSSL 2.8.3'. See: https://github.com/urllib3/urllib3/issues/3020\n",
      "  warnings.warn(\n"
     ]
    }
   ],
   "source": [
    "import torch\n",
    "import torch.nn as nn\n",
    "import torchvision\n",
    "import torchvision.transforms as transforms\n",
    "import torch.optim as optim"
   ]
  },
  {
   "cell_type": "code",
   "execution_count": 3,
   "metadata": {},
   "outputs": [],
   "source": [
    "# CIFAR-10 dataset\n",
    "transform = transforms.Compose([\n",
    "    transforms.ToTensor(),\n",
    "    transforms.Normalize((0.5, 0.5, 0.5), (0.5, 0.5, 0.5))\n",
    "])\n",
    "\n",
    "\n",
    "\n",
    "# Hyper-parameters\n",
    "num_epochs = 10\n",
    "batch_size = 64\n",
    "learning_rate = 0.001"
   ]
  },
  {
   "cell_type": "code",
   "execution_count": 4,
   "metadata": {},
   "outputs": [
    {
     "name": "stdout",
     "output_type": "stream",
     "text": [
      "Downloading https://www.cs.toronto.edu/~kriz/cifar-10-python.tar.gz to ./data/cifar-10-python.tar.gz\n"
     ]
    },
    {
     "name": "stderr",
     "output_type": "stream",
     "text": [
      "100%|██████████| 170498071/170498071 [00:14<00:00, 11771641.99it/s]\n"
     ]
    },
    {
     "name": "stdout",
     "output_type": "stream",
     "text": [
      "Extracting ./data/cifar-10-python.tar.gz to ./data\n",
      "Files already downloaded and verified\n"
     ]
    }
   ],
   "source": [
    "train_dataset = torchvision.datasets.CIFAR10(root='./data', train=True, download=True, transform=transform)\n",
    "test_dataset = torchvision.datasets.CIFAR10(root='./data', train=False, download=True, transform=transform)\n",
    "\n",
    "train_loader = torch.utils.data.DataLoader(dataset=train_dataset, batch_size=batch_size, shuffle=True)\n",
    "test_loader = torch.utils.data.DataLoader(dataset=test_dataset, batch_size=batch_size, shuffle=False)\n",
    "\n"
   ]
  },
  {
   "cell_type": "code",
   "execution_count": 5,
   "metadata": {},
   "outputs": [],
   "source": [
    "device = torch.device(\"mps\")\n",
    "\n",
    "\n",
    "class CNN(nn.Module):\n",
    "    def __init__(self):\n",
    "        super(CNN, self).__init__()\n",
    "        self.conv1 = nn.Conv2d(3, 32, kernel_size=3, padding=1)\n",
    "        self.conv2 = nn.Conv2d(32, 64, kernel_size=3, padding=1)\n",
    "        self.pool = nn.MaxPool2d(2, 2)\n",
    "        self.fc1 = nn.Linear(64 * 8 * 8, 512)\n",
    "        self.fc2 = nn.Linear(512, 10)\n",
    "\n",
    "    def forward(self, x):\n",
    "        x = self.pool(torch.relu(self.conv1(x)))\n",
    "        x = self.pool(torch.relu(self.conv2(x)))\n",
    "        x = x.view(-1, 64 * 8 * 8)\n",
    "        x = torch.relu(self.fc1(x))\n",
    "        x = self.fc2(x)\n",
    "        return x\n",
    "    "
   ]
  },
  {
   "cell_type": "code",
   "execution_count": 6,
   "metadata": {},
   "outputs": [],
   "source": [
    "\n",
    "class ResidualBlock(nn.Module):\n",
    "    def __init__(self, in_channels, out_channels, stride=1):\n",
    "        super(ResidualBlock, self).__init__()\n",
    "        self.conv1 = nn.Conv2d(in_channels, out_channels, kernel_size=3, stride=stride, padding=1, bias=False)\n",
    "        self.bn1 = nn.BatchNorm2d(out_channels)\n",
    "        self.conv2 = nn.Conv2d(out_channels, out_channels, kernel_size=3, stride=1, padding=1, bias=False)\n",
    "        self.bn2 = nn.BatchNorm2d(out_channels)\n",
    "        self.relu = nn.ReLU(inplace=True)\n",
    "        self.downsample = nn.Sequential()\n",
    "        if stride != 1 or in_channels != out_channels:\n",
    "            self.downsample = nn.Sequential(\n",
    "                nn.Conv2d(in_channels, out_channels, kernel_size=1, stride=stride, bias=False),\n",
    "                nn.BatchNorm2d(out_channels)\n",
    "            )\n",
    "\n",
    "    def forward(self, x):\n",
    "        residual = self.downsample(x)\n",
    "        out = self.conv1(x)\n",
    "        out = self.bn1(out)\n",
    "        out = self.relu(out)\n",
    "        out = self.conv2(out)\n",
    "        out = self.bn2(out)\n",
    "        out += residual\n",
    "        out = self.relu(out)\n",
    "        return out\n",
    "    \n",
    "# ResNet\n",
    "class ResNet(nn.Module):\n",
    "    def __init__(self, block, num_blocks, num_classes=10):\n",
    "        super(ResNet, self).__init__()\n",
    "        self.in_channels = 64\n",
    "        self.conv1 = nn.Conv2d(3, 64, kernel_size=3, stride=1, padding=1, bias=False)\n",
    "        self.bn1 = nn.BatchNorm2d(64)\n",
    "        self.layer1 = self.make_layer(block, 64, num_blocks[0], stride=1)\n",
    "        self.layer2 = self.make_layer(block, 128, num_blocks[1], stride=2)\n",
    "        self.layer3 = self.make_layer(block, 256, num_blocks[2], stride=2)\n",
    "        self.layer4 = self.make_layer(block, 512, num_blocks[3], stride=2)\n",
    "        self.avg_pool = nn.AvgPool2d(4)\n",
    "        self.fc = nn.Linear(512, num_classes)\n",
    "\n",
    "    def make_layer(self, block, out_channels, num_blocks, stride):\n",
    "        strides = [stride] + [1] * (num_blocks - 1)\n",
    "        layers = []\n",
    "        for stride in strides:\n",
    "            layers.append(block(self.in_channels, out_channels, stride))\n",
    "            self.in_channels = out_channels\n",
    "        return nn.Sequential(*layers)\n",
    "\n",
    "    def forward(self, x):\n",
    "        out = self.conv1(x)\n",
    "        out = self.bn1(out)\n",
    "        out = torch.relu(out)\n",
    "        out = self.layer1(out)\n",
    "        out = self.layer2(out)\n",
    "        out = self.layer3(out)\n",
    "        out = self.layer4(out)\n",
    "        out = self.avg_pool(out)\n",
    "        out = out.view(out.size(0), -1)\n",
    "        out = self.fc(out)\n",
    "        return out\n",
    "    "
   ]
  },
  {
   "cell_type": "code",
   "execution_count": 7,
   "metadata": {},
   "outputs": [
    {
     "name": "stdout",
     "output_type": "stream",
     "text": [
      "Epoch [1/10], Step [100/782], CNN Loss: 1.7586, ResNet Loss: 1.6547\n",
      "Epoch [1/10], Step [200/782], CNN Loss: 1.4186, ResNet Loss: 1.4513\n",
      "Epoch [1/10], Step [300/782], CNN Loss: 1.4383, ResNet Loss: 1.4597\n",
      "Epoch [1/10], Step [400/782], CNN Loss: 1.0583, ResNet Loss: 1.1438\n",
      "Epoch [1/10], Step [500/782], CNN Loss: 1.1229, ResNet Loss: 1.0431\n",
      "Epoch [1/10], Step [600/782], CNN Loss: 1.3079, ResNet Loss: 1.1127\n",
      "Epoch [1/10], Step [700/782], CNN Loss: 1.1000, ResNet Loss: 0.9219\n",
      "Epoch [2/10], Step [100/782], CNN Loss: 0.9960, ResNet Loss: 1.0230\n",
      "Epoch [2/10], Step [200/782], CNN Loss: 0.7567, ResNet Loss: 0.7659\n",
      "Epoch [2/10], Step [300/782], CNN Loss: 0.8800, ResNet Loss: 0.6950\n",
      "Epoch [2/10], Step [400/782], CNN Loss: 0.7475, ResNet Loss: 0.6428\n",
      "Epoch [2/10], Step [500/782], CNN Loss: 0.9395, ResNet Loss: 0.8675\n",
      "Epoch [2/10], Step [600/782], CNN Loss: 1.2115, ResNet Loss: 1.0971\n",
      "Epoch [2/10], Step [700/782], CNN Loss: 0.7813, ResNet Loss: 0.5120\n",
      "Epoch [3/10], Step [100/782], CNN Loss: 0.8452, ResNet Loss: 0.7470\n",
      "Epoch [3/10], Step [200/782], CNN Loss: 0.8093, ResNet Loss: 0.5709\n",
      "Epoch [3/10], Step [300/782], CNN Loss: 0.7956, ResNet Loss: 0.5890\n",
      "Epoch [3/10], Step [400/782], CNN Loss: 0.6947, ResNet Loss: 0.5251\n",
      "Epoch [3/10], Step [500/782], CNN Loss: 0.7583, ResNet Loss: 0.5821\n",
      "Epoch [3/10], Step [600/782], CNN Loss: 0.8804, ResNet Loss: 0.6054\n",
      "Epoch [3/10], Step [700/782], CNN Loss: 0.8462, ResNet Loss: 0.8514\n",
      "Epoch [4/10], Step [100/782], CNN Loss: 0.5386, ResNet Loss: 0.5771\n",
      "Epoch [4/10], Step [200/782], CNN Loss: 0.5970, ResNet Loss: 0.5202\n",
      "Epoch [4/10], Step [300/782], CNN Loss: 0.3170, ResNet Loss: 0.3717\n",
      "Epoch [4/10], Step [400/782], CNN Loss: 0.4847, ResNet Loss: 0.3431\n",
      "Epoch [4/10], Step [500/782], CNN Loss: 0.5564, ResNet Loss: 0.5354\n",
      "Epoch [4/10], Step [600/782], CNN Loss: 0.5090, ResNet Loss: 0.2486\n",
      "Epoch [4/10], Step [700/782], CNN Loss: 0.6432, ResNet Loss: 0.4670\n",
      "Epoch [5/10], Step [100/782], CNN Loss: 0.5086, ResNet Loss: 0.4195\n",
      "Epoch [5/10], Step [200/782], CNN Loss: 0.3529, ResNet Loss: 0.2614\n",
      "Epoch [5/10], Step [300/782], CNN Loss: 0.4378, ResNet Loss: 0.2461\n",
      "Epoch [5/10], Step [400/782], CNN Loss: 0.4135, ResNet Loss: 0.3183\n",
      "Epoch [5/10], Step [500/782], CNN Loss: 0.3358, ResNet Loss: 0.5499\n",
      "Epoch [5/10], Step [600/782], CNN Loss: 0.4029, ResNet Loss: 0.3748\n",
      "Epoch [5/10], Step [700/782], CNN Loss: 0.5058, ResNet Loss: 0.5441\n",
      "Epoch [6/10], Step [100/782], CNN Loss: 0.2079, ResNet Loss: 0.1879\n",
      "Epoch [6/10], Step [200/782], CNN Loss: 0.2320, ResNet Loss: 0.1097\n",
      "Epoch [6/10], Step [300/782], CNN Loss: 0.4379, ResNet Loss: 0.3381\n",
      "Epoch [6/10], Step [400/782], CNN Loss: 0.1803, ResNet Loss: 0.1828\n",
      "Epoch [6/10], Step [500/782], CNN Loss: 0.2753, ResNet Loss: 0.2345\n",
      "Epoch [6/10], Step [600/782], CNN Loss: 0.1914, ResNet Loss: 0.2316\n",
      "Epoch [6/10], Step [700/782], CNN Loss: 0.2733, ResNet Loss: 0.3873\n",
      "Epoch [7/10], Step [100/782], CNN Loss: 0.1567, ResNet Loss: 0.3207\n",
      "Epoch [7/10], Step [200/782], CNN Loss: 0.1829, ResNet Loss: 0.1829\n",
      "Epoch [7/10], Step [300/782], CNN Loss: 0.3395, ResNet Loss: 0.3357\n",
      "Epoch [7/10], Step [400/782], CNN Loss: 0.2794, ResNet Loss: 0.3296\n",
      "Epoch [7/10], Step [500/782], CNN Loss: 0.3657, ResNet Loss: 0.3246\n",
      "Epoch [7/10], Step [600/782], CNN Loss: 0.2805, ResNet Loss: 0.3409\n",
      "Epoch [7/10], Step [700/782], CNN Loss: 0.0825, ResNet Loss: 0.2428\n",
      "Epoch [8/10], Step [100/782], CNN Loss: 0.0775, ResNet Loss: 0.0799\n",
      "Epoch [8/10], Step [200/782], CNN Loss: 0.1598, ResNet Loss: 0.1328\n",
      "Epoch [8/10], Step [300/782], CNN Loss: 0.0859, ResNet Loss: 0.0981\n",
      "Epoch [8/10], Step [400/782], CNN Loss: 0.2332, ResNet Loss: 0.1274\n",
      "Epoch [8/10], Step [500/782], CNN Loss: 0.0908, ResNet Loss: 0.0664\n",
      "Epoch [8/10], Step [600/782], CNN Loss: 0.1125, ResNet Loss: 0.1382\n",
      "Epoch [8/10], Step [700/782], CNN Loss: 0.2360, ResNet Loss: 0.2033\n",
      "Epoch [9/10], Step [100/782], CNN Loss: 0.0251, ResNet Loss: 0.0801\n",
      "Epoch [9/10], Step [200/782], CNN Loss: 0.0341, ResNet Loss: 0.1357\n",
      "Epoch [9/10], Step [300/782], CNN Loss: 0.0407, ResNet Loss: 0.0334\n",
      "Epoch [9/10], Step [400/782], CNN Loss: 0.0811, ResNet Loss: 0.1107\n",
      "Epoch [9/10], Step [500/782], CNN Loss: 0.0422, ResNet Loss: 0.1034\n",
      "Epoch [9/10], Step [600/782], CNN Loss: 0.0786, ResNet Loss: 0.1415\n",
      "Epoch [9/10], Step [700/782], CNN Loss: 0.1683, ResNet Loss: 0.0947\n",
      "Epoch [10/10], Step [100/782], CNN Loss: 0.0497, ResNet Loss: 0.0860\n",
      "Epoch [10/10], Step [200/782], CNN Loss: 0.0477, ResNet Loss: 0.0086\n",
      "Epoch [10/10], Step [300/782], CNN Loss: 0.0506, ResNet Loss: 0.0726\n",
      "Epoch [10/10], Step [400/782], CNN Loss: 0.0792, ResNet Loss: 0.0459\n",
      "Epoch [10/10], Step [500/782], CNN Loss: 0.0653, ResNet Loss: 0.0338\n",
      "Epoch [10/10], Step [600/782], CNN Loss: 0.1096, ResNet Loss: 0.1531\n",
      "Epoch [10/10], Step [700/782], CNN Loss: 0.0566, ResNet Loss: 0.2074\n"
     ]
    }
   ],
   "source": [
    "\n",
    "# Model initialization\n",
    "model_cnn = CNN().to(device)\n",
    "model_resnet = ResNet(ResidualBlock, [2, 2, 2, 2]).to(device)\n",
    "\n",
    "# Loss and optimizer\n",
    "criterion = nn.CrossEntropyLoss()\n",
    "optimizer_cnn = optim.Adam(model_cnn.parameters(), lr=learning_rate)\n",
    "optimizer_resnet = optim.Adam(model_resnet.parameters(), lr=learning_rate)\n",
    "\n",
    "\n",
    "total_step = len(train_loader)\n",
    "for epoch in range(num_epochs):\n",
    "    for i, (images, labels) in enumerate(train_loader):\n",
    "        images = images.to(device)\n",
    "        labels = labels.to(device)\n",
    "\n",
    "        # Forward pass\n",
    "        outputs_cnn = model_cnn(images)\n",
    "        outputs_resnet = model_resnet(images)\n",
    "        loss_cnn = criterion(outputs_cnn, labels)\n",
    "        loss_resnet = criterion(outputs_resnet, labels)\n",
    "\n",
    "        # Backward and optimize\n",
    "        optimizer_cnn.zero_grad()\n",
    "        optimizer_resnet.zero_grad()\n",
    "        loss_cnn.backward()\n",
    "        loss_resnet.backward()\n",
    "        optimizer_cnn.step()\n",
    "        optimizer_resnet.step()\n",
    "\n",
    "        if (i+1) % 100 == 0:\n",
    "            print('Epoch [{}/{}], Step [{}/{}], CNN Loss: {:.4f}, ResNet Loss: {:.4f}'\n",
    "                  .format(epoch+1, num_epochs, i+1, total_step, loss_cnn.item(), loss_resnet.item()))\n"
   ]
  },
  {
   "cell_type": "code",
   "execution_count": 8,
   "metadata": {},
   "outputs": [
    {
     "name": "stdout",
     "output_type": "stream",
     "text": [
      "Accuracy of the CNN on the 10000 test images: 72.09 %\n",
      "Accuracy of the ResNet on the 10000 test images: 83.59 %\n"
     ]
    }
   ],
   "source": [
    "\n",
    "# Test the models\n",
    "\n",
    "model_cnn.eval()\n",
    "model_resnet.eval()\n",
    "with torch.no_grad():\n",
    "    correct_cnn = 0\n",
    "    correct_resnet = 0\n",
    "    total = 0\n",
    "    for images, labels in test_loader:\n",
    "        images = images.to(device)\n",
    "        labels = labels.to(device)\n",
    "        outputs_cnn = model_cnn(images)\n",
    "        outputs_resnet = model_resnet(images)\n",
    "        _, predicted_cnn = torch.max(outputs_cnn.data, 1)\n",
    "        _, predicted_resnet = torch.max(outputs_resnet.data, 1)\n",
    "        total += labels.size(0)\n",
    "        correct_cnn += (predicted_cnn == labels).sum().item()\n",
    "        correct_resnet += (predicted_resnet == labels).sum().item()\n",
    "\n",
    "    print('Accuracy of the CNN on the 10000 test images: {} %'.format(100 * correct_cnn / total))\n",
    "    print('Accuracy of the ResNet on the 10000 test images: {} %'.format(100 * correct_resnet / total))"
   ]
  }
 ],
 "metadata": {
  "kernelspec": {
   "display_name": "env",
   "language": "python",
   "name": "python3"
  },
  "language_info": {
   "codemirror_mode": {
    "name": "ipython",
    "version": 3
   },
   "file_extension": ".py",
   "mimetype": "text/x-python",
   "name": "python",
   "nbconvert_exporter": "python",
   "pygments_lexer": "ipython3",
   "version": "3.9.6"
  }
 },
 "nbformat": 4,
 "nbformat_minor": 2
}
